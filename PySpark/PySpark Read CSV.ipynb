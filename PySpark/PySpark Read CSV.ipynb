{
 "cells": [
  {
   "cell_type": "code",
   "execution_count": 19,
   "metadata": {
    "collapsed": false
   },
   "outputs": [],
   "source": [
    "from pyspark.sql import SQLContext\n",
    "from pyspark.sql.types import *\n",
    "import pyspark\n",
    "from pyspark.sql import Row\n",
    "import csv\n",
    "sql_c = SQLContext(sc)"
   ]
  },
  {
   "cell_type": "code",
   "execution_count": 24,
   "metadata": {
    "collapsed": false
   },
   "outputs": [],
   "source": [
    "df = sql_c.read.csv('./axisdata.csv', header=True, inferSchema=True)"
   ]
  },
  {
   "cell_type": "code",
   "execution_count": 26,
   "metadata": {
    "collapsed": false
   },
   "outputs": [
    {
     "name": "stdout",
     "output_type": "stream",
     "text": [
      "+-------+---------+------+------------+-------------+----------------+---------+\n",
      "|  Fname|    Lname|Gender|Hours Worked|SalesTraining|Years Experience|Cars Sold|\n",
      "+-------+---------+------+------------+-------------+----------------+---------+\n",
      "|   Jada| Walters |     F|          39|            N|               3|        2|\n",
      "| Nicole|Henderson|     F|          46|            N|               3|        6|\n",
      "|  Tanya|    Moore|     F|          42|            Y|               4|        6|\n",
      "|Ronelle|  Jackson|     F|          38|            Y|               5|        3|\n",
      "|   Brad|    Sears|     M|          33|            N|               4|        2|\n",
      "+-------+---------+------+------------+-------------+----------------+---------+\n",
      "only showing top 5 rows\n",
      "\n"
     ]
    }
   ],
   "source": [
    "df.show(5)"
   ]
  },
  {
   "cell_type": "code",
   "execution_count": 27,
   "metadata": {
    "collapsed": false
   },
   "outputs": [
    {
     "data": {
      "text/plain": [
       "['Fname',\n",
       " 'Lname',\n",
       " 'Gender',\n",
       " 'Hours Worked',\n",
       " 'SalesTraining',\n",
       " 'Years Experience',\n",
       " 'Cars Sold']"
      ]
     },
     "execution_count": 27,
     "metadata": {},
     "output_type": "execute_result"
    }
   ],
   "source": [
    "df.columns"
   ]
  },
  {
   "cell_type": "code",
   "execution_count": 28,
   "metadata": {
    "collapsed": false
   },
   "outputs": [
    {
     "data": {
      "text/plain": [
       "7"
      ]
     },
     "execution_count": 28,
     "metadata": {},
     "output_type": "execute_result"
    }
   ],
   "source": [
    "len(df.columns)"
   ]
  },
  {
   "cell_type": "code",
   "execution_count": 29,
   "metadata": {
    "collapsed": false
   },
   "outputs": [
    {
     "data": {
      "text/plain": [
       "999"
      ]
     },
     "execution_count": 29,
     "metadata": {},
     "output_type": "execute_result"
    }
   ],
   "source": [
    "df.count()"
   ]
  },
  {
   "cell_type": "code",
   "execution_count": 32,
   "metadata": {
    "collapsed": false
   },
   "outputs": [
    {
     "name": "stdout",
     "output_type": "stream",
     "text": [
      "999 7\n"
     ]
    }
   ],
   "source": [
    "print((df.count()), (len(df.columns)))"
   ]
  },
  {
   "cell_type": "code",
   "execution_count": 33,
   "metadata": {
    "collapsed": false
   },
   "outputs": [
    {
     "name": "stdout",
     "output_type": "stream",
     "text": [
      "root\n",
      " |-- Fname: string (nullable = true)\n",
      " |-- Lname: string (nullable = true)\n",
      " |-- Gender: string (nullable = true)\n",
      " |-- Hours Worked: integer (nullable = true)\n",
      " |-- SalesTraining: string (nullable = true)\n",
      " |-- Years Experience: integer (nullable = true)\n",
      " |-- Cars Sold: integer (nullable = true)\n",
      "\n"
     ]
    }
   ],
   "source": [
    "df.printSchema()"
   ]
  },
  {
   "cell_type": "code",
   "execution_count": 35,
   "metadata": {
    "collapsed": false
   },
   "outputs": [
    {
     "name": "stdout",
     "output_type": "stream",
     "text": [
      "+-------+---------+\n",
      "|  FName|    LName|\n",
      "+-------+---------+\n",
      "|   Jada| Walters |\n",
      "| Nicole|Henderson|\n",
      "|  Tanya|    Moore|\n",
      "|Ronelle|  Jackson|\n",
      "|   Brad|    Sears|\n",
      "+-------+---------+\n",
      "only showing top 5 rows\n",
      "\n"
     ]
    }
   ],
   "source": [
    "df.select('FName', 'LName').show(5)"
   ]
  },
  {
   "cell_type": "code",
   "execution_count": 36,
   "metadata": {
    "collapsed": false
   },
   "outputs": [
    {
     "name": "stdout",
     "output_type": "stream",
     "text": [
      "+-------+-----+-------+------+------------------+-------------+------------------+------------------+\n",
      "|summary|Fname|  Lname|Gender|      Hours Worked|SalesTraining|  Years Experience|         Cars Sold|\n",
      "+-------+-----+-------+------+------------------+-------------+------------------+------------------+\n",
      "|  count|  999|    999|   999|               999|          999|               999|               999|\n",
      "|   mean| null|   null|  null|33.727727727727725|         null| 3.026026026026026|3.9229229229229228|\n",
      "| stddev| null|   null|  null|  8.22345379549221|         null|1.3947091993763343|1.5269998435197307|\n",
      "|    min|Aaron|  Adams|     F|                20|            N|                 1|                 1|\n",
      "|    max|india|Withers|     M|                48|            Y|                 5|                 7|\n",
      "+-------+-----+-------+------+------------------+-------------+------------------+------------------+\n",
      "\n"
     ]
    }
   ],
   "source": [
    "df.describe().show(5)"
   ]
  },
  {
   "cell_type": "code",
   "execution_count": null,
   "metadata": {
    "collapsed": true
   },
   "outputs": [],
   "source": []
  },
  {
   "cell_type": "code",
   "execution_count": null,
   "metadata": {
    "collapsed": true
   },
   "outputs": [],
   "source": []
  }
 ],
 "metadata": {
  "kernelspec": {
   "display_name": "Python 3",
   "language": "python",
   "name": "python3"
  },
  "language_info": {
   "codemirror_mode": {
    "name": "ipython",
    "version": 3
   },
   "file_extension": ".py",
   "mimetype": "text/x-python",
   "name": "python",
   "nbconvert_exporter": "python",
   "pygments_lexer": "ipython3",
   "version": "3.6.4"
  }
 },
 "nbformat": 4,
 "nbformat_minor": 0
}
