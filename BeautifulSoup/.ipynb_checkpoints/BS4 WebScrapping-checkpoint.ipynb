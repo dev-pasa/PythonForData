{
 "cells": [
  {
   "cell_type": "code",
   "execution_count": 3,
   "metadata": {
    "collapsed": false
   },
   "outputs": [],
   "source": [
    "from urllib.request import urlopen\n",
    "from bs4 import BeautifulSoup\n",
    "html = urlopen(\"http://www.pythonscraping.com/pages/page1.html\")\n",
    "              "
   ]
  },
  {
   "cell_type": "code",
   "execution_count": 8,
   "metadata": {
    "collapsed": false
   },
   "outputs": [],
   "source": [
    "#This can be done easily with\n",
    "#bsObj = BeautifulSoup(html.read())\n",
    "def getTitle(url):\n",
    "    try:\n",
    "        html=urlopen(url)\n",
    "    except HTTPError as e:\n",
    "        return None\n",
    "    try: \n",
    "        bsObj = BeautifulSoup(html.read())\n",
    "        title = bsObj.body.h1\n",
    "    except AttributeError as e:\n",
    "        return None\n",
    "    return title\n"
   ]
  },
  {
   "cell_type": "code",
   "execution_count": 9,
   "metadata": {
    "collapsed": false
   },
   "outputs": [
    {
     "name": "stdout",
     "output_type": "stream",
     "text": [
      "<h1>An Interesting Title</h1>\n"
     ]
    }
   ],
   "source": [
    "title = getTitle(\"http://www.pythonscraping.com/pages/page1.html\")\n",
    "if title == None:\n",
    "    print(\"Title Not found\")\n",
    "else: \n",
    "    print(title)"
   ]
  },
  {
   "cell_type": "code",
   "execution_count": 4,
   "metadata": {
    "collapsed": false
   },
   "outputs": [
    {
     "name": "stdout",
     "output_type": "stream",
     "text": [
      "<div>\n",
      "Lorem ipsum dolor sit amet, consectetur adipisicing elit, sed do eiusmod tempor incididunt ut labore et dolore magna aliqua. Ut enim ad minim veniam, quis nostrud exercitation ullamco laboris nisi ut aliquip ex ea commodo consequat. Duis aute irure dolor in reprehenderit in voluptate velit esse cillum dolore eu fugiat nulla pariatur. Excepteur sint occaecat cupidatat non proident, sunt in culpa qui officia deserunt mollit anim id est laborum.\n",
      "</div>\n"
     ]
    }
   ],
   "source": [
    "print(bsObj.div)"
   ]
  },
  {
   "cell_type": "code",
   "execution_count": 10,
   "metadata": {
    "collapsed": true
   },
   "outputs": [],
   "source": [
    "html2 = urlopen(\"http://www.pythonscraping.com/pages/warandpeace.html\")\n",
    "bsObj2 = BeautifulSoup(html2)"
   ]
  },
  {
   "cell_type": "code",
   "execution_count": 13,
   "metadata": {
    "collapsed": false
   },
   "outputs": [
    {
     "name": "stdout",
     "output_type": "stream",
     "text": [
      "<span class=\"green\">Anna\n",
      "Pavlovna Scherer</span>\n",
      "<span class=\"green\">Empress Marya\n",
      "Fedorovna</span>\n",
      "<span class=\"green\">Prince Vasili Kuragin</span>\n",
      "<span class=\"green\">Anna Pavlovna</span>\n",
      "<span class=\"green\">St. Petersburg</span>\n",
      "<span class=\"green\">the prince</span>\n",
      "<span class=\"green\">Anna Pavlovna</span>\n",
      "<span class=\"green\">Anna Pavlovna</span>\n",
      "<span class=\"green\">the prince</span>\n",
      "<span class=\"green\">the prince</span>\n",
      "<span class=\"green\">the prince</span>\n",
      "<span class=\"green\">Prince Vasili</span>\n",
      "<span class=\"green\">Anna Pavlovna</span>\n",
      "<span class=\"green\">Anna Pavlovna</span>\n",
      "<span class=\"green\">the prince</span>\n",
      "<span class=\"green\">Wintzingerode</span>\n",
      "<span class=\"green\">King of Prussia</span>\n",
      "<span class=\"green\">le Vicomte de Mortemart</span>\n",
      "<span class=\"green\">Montmorencys</span>\n",
      "<span class=\"green\">Rohans</span>\n",
      "<span class=\"green\">Abbe Morio</span>\n",
      "<span class=\"green\">the Emperor</span>\n",
      "<span class=\"green\">the prince</span>\n",
      "<span class=\"green\">Prince Vasili</span>\n",
      "<span class=\"green\">Dowager Empress Marya Fedorovna</span>\n",
      "<span class=\"green\">the baron</span>\n",
      "<span class=\"green\">Anna Pavlovna</span>\n",
      "<span class=\"green\">the Empress</span>\n",
      "<span class=\"green\">the Empress</span>\n",
      "<span class=\"green\">Anna Pavlovna's</span>\n",
      "<span class=\"green\">Her Majesty</span>\n",
      "<span class=\"green\">Baron\n",
      "Funke</span>\n",
      "<span class=\"green\">The prince</span>\n",
      "<span class=\"green\">Anna\n",
      "Pavlovna</span>\n",
      "<span class=\"green\">the Empress</span>\n",
      "<span class=\"green\">The prince</span>\n",
      "<span class=\"green\">Anatole</span>\n",
      "<span class=\"green\">the prince</span>\n",
      "<span class=\"green\">The prince</span>\n",
      "<span class=\"green\">Anna\n",
      "Pavlovna</span>\n",
      "<span class=\"green\">Anna Pavlovna</span>\n"
     ]
    }
   ],
   "source": [
    "nameList = bsObj2.findAll(\"span\", {\"class\":\"green\"})\n",
    "for name in nameList:\n",
    "    print(name)"
   ]
  },
  {
   "cell_type": "code",
   "execution_count": 14,
   "metadata": {
    "collapsed": false
   },
   "outputs": [
    {
     "name": "stdout",
     "output_type": "stream",
     "text": [
      "Anna\n",
      "Pavlovna Scherer\n",
      "Empress Marya\n",
      "Fedorovna\n",
      "Prince Vasili Kuragin\n",
      "Anna Pavlovna\n",
      "St. Petersburg\n",
      "the prince\n",
      "Anna Pavlovna\n",
      "Anna Pavlovna\n",
      "the prince\n",
      "the prince\n",
      "the prince\n",
      "Prince Vasili\n",
      "Anna Pavlovna\n",
      "Anna Pavlovna\n",
      "the prince\n",
      "Wintzingerode\n",
      "King of Prussia\n",
      "le Vicomte de Mortemart\n",
      "Montmorencys\n",
      "Rohans\n",
      "Abbe Morio\n",
      "the Emperor\n",
      "the prince\n",
      "Prince Vasili\n",
      "Dowager Empress Marya Fedorovna\n",
      "the baron\n",
      "Anna Pavlovna\n",
      "the Empress\n",
      "the Empress\n",
      "Anna Pavlovna's\n",
      "Her Majesty\n",
      "Baron\n",
      "Funke\n",
      "The prince\n",
      "Anna\n",
      "Pavlovna\n",
      "the Empress\n",
      "The prince\n",
      "Anatole\n",
      "the prince\n",
      "The prince\n",
      "Anna\n",
      "Pavlovna\n",
      "Anna Pavlovna\n"
     ]
    }
   ],
   "source": [
    "for name in nameList:\n",
    "    print(name.get_text())"
   ]
  },
  {
   "cell_type": "code",
   "execution_count": 17,
   "metadata": {
    "collapsed": false
   },
   "outputs": [
    {
     "name": "stdout",
     "output_type": "stream",
     "text": [
      "\n",
      "\n",
      "<tr><th>\n",
      "Item Title\n",
      "</th><th>\n",
      "Description\n",
      "</th><th>\n",
      "Cost\n",
      "</th><th>\n",
      "Image\n",
      "</th></tr>\n",
      "\n",
      "\n",
      "<tr class=\"gift\" id=\"gift1\"><td>\n",
      "Vegetable Basket\n",
      "</td><td>\n",
      "This vegetable basket is the perfect gift for your health conscious (or overweight) friends!\n",
      "<span class=\"excitingNote\">Now with super-colorful bell peppers!</span>\n",
      "</td><td>\n",
      "$15.00\n",
      "</td><td>\n",
      "<img src=\"../img/gifts/img1.jpg\"/>\n",
      "</td></tr>\n",
      "\n",
      "\n",
      "<tr class=\"gift\" id=\"gift2\"><td>\n",
      "Russian Nesting Dolls\n",
      "</td><td>\n",
      "Hand-painted by trained monkeys, these exquisite dolls are priceless! And by \"priceless,\" we mean \"extremely expensive\"! <span class=\"excitingNote\">8 entire dolls per set! Octuple the presents!</span>\n",
      "</td><td>\n",
      "$10,000.52\n",
      "</td><td>\n",
      "<img src=\"../img/gifts/img2.jpg\"/>\n",
      "</td></tr>\n",
      "\n",
      "\n",
      "<tr class=\"gift\" id=\"gift3\"><td>\n",
      "Fish Painting\n",
      "</td><td>\n",
      "If something seems fishy about this painting, it's because it's a fish! <span class=\"excitingNote\">Also hand-painted by trained monkeys!</span>\n",
      "</td><td>\n",
      "$10,005.00\n",
      "</td><td>\n",
      "<img src=\"../img/gifts/img3.jpg\"/>\n",
      "</td></tr>\n",
      "\n",
      "\n",
      "<tr class=\"gift\" id=\"gift4\"><td>\n",
      "Dead Parrot\n",
      "</td><td>\n",
      "This is an ex-parrot! <span class=\"excitingNote\">Or maybe he's only resting?</span>\n",
      "</td><td>\n",
      "$0.50\n",
      "</td><td>\n",
      "<img src=\"../img/gifts/img4.jpg\"/>\n",
      "</td></tr>\n",
      "\n",
      "\n",
      "<tr class=\"gift\" id=\"gift5\"><td>\n",
      "Mystery Box\n",
      "</td><td>\n",
      "If you love suprises, this mystery box is for you! Do not place on light-colored surfaces. May cause oil staining. <span class=\"excitingNote\">Keep your friends guessing!</span>\n",
      "</td><td>\n",
      "$1.50\n",
      "</td><td>\n",
      "<img src=\"../img/gifts/img6.jpg\"/>\n",
      "</td></tr>\n",
      "\n",
      "\n"
     ]
    }
   ],
   "source": [
    "html3 = urlopen(\"http://www.pythonscraping.com/pages/page3.html\")\n",
    "bsObj3 = BeautifulSoup(html3)\n",
    "\n",
    "for child3 in bsObj3.find(\"table\",{\"id\":\"giftList\"}).children:\n",
    "    print(child3)"
   ]
  },
  {
   "cell_type": "code",
   "execution_count": null,
   "metadata": {
    "collapsed": true
   },
   "outputs": [],
   "source": [
    "# <tr>\n",
    "# - <td>\n",
    "# - <td>\n",
    "# - <td>(3)\n",
    "#   -- “$15.00” (4)\n",
    "# - s<td> (2)\n",
    "#   -- <img src=”../img/gifts/img1.jpg\">(1)\n",
    "# 1. The image tag where src=\"../img/gifts/img1.jpg\" is first selected\n",
    "# 2. We select the parent of that tag (in this case, the <td> tag).\n",
    "# 3. We select the previous_sibling of the <td> tag (in this case, the <td> tag that contains the dollar value of the product).\n",
    "# 4. We select the text within that tag, $15.00"
   ]
  },
  {
   "cell_type": "code",
   "execution_count": 5,
   "metadata": {
    "collapsed": false,
    "scrolled": true
   },
   "outputs": [
    {
     "name": "stdout",
     "output_type": "stream",
     "text": [
      "\n",
      "$15.00\n",
      "\n"
     ]
    }
   ],
   "source": [
    "html5 = urlopen(\"http://www.pythonscraping.com/pages/page3.html\")\n",
    "bsObj5 = BeautifulSoup(html5)\n",
    "print(bsObj5.find(\"img\",{\"src\":\"../img/gifts/img1.jpg\"\n",
    "}).parent.previous_sibling.get_text())"
   ]
  },
  {
   "cell_type": "code",
   "execution_count": 10,
   "metadata": {
    "collapsed": false
   },
   "outputs": [
    {
     "name": "stdout",
     "output_type": "stream",
     "text": [
      "['Name', 'Year']\n",
      "[\"Monty Python's Flying Circus\", '1970']\n",
      "['Another Monty Python Record', '1971']\n",
      "[\"Monty Python's Previous Record\", '1972']\n",
      "['The Monty Python Matching Tie and Handkerchief', '1973']\n",
      "['Monty Python Live at Drury Lane', '1974']\n",
      "['An Album of the Soundtrack of the Trailer of the Film of Monty Python and the Holy Grail', '1975']\n",
      "['Monty Python Live at City Center', '1977']\n",
      "['The Monty Python Instant Record Collection', '1977']\n",
      "[\"Monty Python's Life of Brian\", '1979']\n",
      "[\"Monty Python's Cotractual Obligation Album\", '1980']\n",
      "[\"Monty Python's The Meaning of Life\", '1983']\n",
      "['The Final Rip Off', '1987']\n",
      "['Monty Python Sings', '1989']\n",
      "['The Ultimate Monty Python Rip Off', '1994']\n",
      "['Monty Python Sings Again', '2014']\n"
     ]
    }
   ],
   "source": [
    "from io import StringIO\n",
    "import csv\n",
    "data = urlopen(\"http://pythonscraping.com/files/MontyPythonAlbums.csv\").read().decode('ascii', 'ignore')\n",
    "dataFile = StringIO(data)\n",
    "csvReader = csv.reader(dataFile)\n",
    "for row in csvReader:\n",
    "    print(row)"
   ]
  }
 ],
 "metadata": {
  "kernelspec": {
   "display_name": "Python 3",
   "language": "python",
   "name": "python3"
  },
  "language_info": {
   "codemirror_mode": {
    "name": "ipython",
    "version": 3
   },
   "file_extension": ".py",
   "mimetype": "text/x-python",
   "name": "python",
   "nbconvert_exporter": "python",
   "pygments_lexer": "ipython3",
   "version": "3.6.4"
  }
 },
 "nbformat": 4,
 "nbformat_minor": 0
}
